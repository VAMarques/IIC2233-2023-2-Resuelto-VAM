{
 "cells": [
  {
   "cell_type": "code",
   "execution_count": 23,
   "metadata": {},
   "outputs": [],
   "source": [
    "class Tablero:\n",
    "    def __init__(self, tablero: list) -> None:\n",
    "        # filas         #columnas\n",
    "        self.dimensiones = [len(tablero), len(tablero[0])]\n",
    "        self.tablero = tablero\n",
    "        \n",
    "    def explosiva_raycaster(self, posicion: list, direccion: list) -> int:\n",
    "        # Funcion manda un rayo que devuelve la cantidad de celdas afectadas antes de chocar\n",
    "        # con un peon.\n",
    "        row, col = posicion\n",
    "        y, x = direccion\n",
    "        n_rows, n_cols = self.dimensiones\n",
    "        afectadas = 0\n",
    "        abierto = True\n",
    "        while abierto and (0 <= row < n_rows) and (0 <= col < n_cols):\n",
    "            objeto = self.tablero[row][col]\n",
    "            if (objeto != \"PP\"):\n",
    "                afectadas += 1\n",
    "                row += y\n",
    "                col += x\n",
    "            else:\n",
    "                abierto = False\n",
    "        return afectadas\n",
    "\n",
    "    def celdas_afectadas(self, fila: int, columna: int) -> int:\n",
    "        afectadas = 1\n",
    "        pieza = self.tablero[fila][columna]\n",
    "        if (pieza[0] == \"V\"):\n",
    "            afectadas += self.explosiva_raycaster([fila, columna], [1, 0])\n",
    "            afectadas += self.explosiva_raycaster([fila, columna], [-1, 0])\n",
    "            return afectadas\n",
    "        elif (pieza[0] == \"H\"):\n",
    "            afectadas += self.explosiva_raycaster([fila, columna], [0, 1])\n",
    "            afectadas += self.explosiva_raycaster([fila, columna], [0, -1])\n",
    "            return afectadas\n",
    "        elif (pieza[0] == \"R\"):\n",
    "            afectadas += self.explosiva_raycaster([fila, columna], [1, 0])\n",
    "            afectadas += self.explosiva_raycaster([fila, columna], [-1, 0])\n",
    "            afectadas += self.explosiva_raycaster([fila, columna], [0, 1])\n",
    "            afectadas += self.explosiva_raycaster([fila, columna], [0, -1])\n",
    "            afectadas += self.explosiva_raycaster([fila, columna], [1, 1])\n",
    "            afectadas += self.explosiva_raycaster([fila, columna], [1, -1])\n",
    "            afectadas += self.explosiva_raycaster([fila, columna], [-1, 1])\n",
    "            afectadas += self.explosiva_raycaster([fila, columna], [-1, -1])\n",
    "            return afectadas\n",
    "        else:\n",
    "            return -1"
   ]
  },
  {
   "cell_type": "code",
   "execution_count": 24,
   "metadata": {},
   "outputs": [
    {
     "name": "stdout",
     "output_type": "stream",
     "text": [
      "1.0089406967163086\n"
     ]
    }
   ],
   "source": [
    "import time\n",
    "time_start = time.time()\n",
    "tablero = Tablero([\n",
    "    [\"--\", \"--\", \"--\", \"--\", \"--\", \"--\", \"--\", \"--\", \"--\"],\n",
    "    [\"V5\", \"--\", \"--\", \"--\", \"--\", \"--\", \"--\", \"--\", \"--\"],\n",
    "    [\"V5\", \"--\", \"--\", \"--\", \"--\", \"--\", \"--\", \"--\", \"--\"],\n",
    "    [\"V5\", \"--\", \"--\", \"--\", \"R\", \"--\", \"--\", \"--\", \"--\"],\n",
    "    [\"--\", \"--\", \"--\", \"--\", \"--\", \"--\", \"--\", \"--\", \"--\"],\n",
    "    [\"PP\", \"--\", \"--\", \"--\", \"--\", \"--\", \"--\", \"--\", \"--\"],\n",
    "    [\"--\", \"--\", \"--\", \"--\", \"--\", \"--\", \"--\", \"--\", \"--\"],\n",
    "    [\"--\", \"--\", \"--\", \"--\", \"--\", \"--\", \"--\", \"--\", \"PP\"],\n",
    "    [\"--\", \"--\", \"--\", \"--\", \"--\", \"--\", \"--\", \"PP\", \"R9\"]\n",
    "])\n",
    "\n",
    "for _ in range(100000):\n",
    "    tablero.celdas_afectadas(3, 4)\n",
    "time_end = time.time()\n",
    "print(time_end-time_start)"
   ]
  },
  {
   "cell_type": "code",
   "execution_count": 31,
   "metadata": {},
   "outputs": [
    {
     "data": {
      "text/plain": [
       "[['R2', '--'], ['PP', 'PP']]"
      ]
     },
     "execution_count": 31,
     "metadata": {},
     "output_type": "execute_result"
    }
   ],
   "source": [
    "string = \"ejemplo_solucionado\"\n",
    "archivo = open(\"tableros.txt\", \"r\", encoding=\"utf-8\")\n",
    "data = archivo.readlines()\n",
    "for i, linea in enumerate(data):\n",
    "    linea = linea.strip(\"\\n\").split(\",\")\n",
    "    if (linea[0] == string):\n",
    "        filas = int(linea[1])\n",
    "        columnas = int(linea[2])\n",
    "        tablero_buscado = linea[3:]\n",
    "nuevo_tablero = []\n",
    "for i in range(filas):\n",
    "    nuevo_tablero.append(tablero_buscado[(i * columnas):((i + 1) * columnas)])\n",
    "nuevo_tablero\n"
   ]
  },
  {
   "cell_type": "code",
   "execution_count": 29,
   "metadata": {},
   "outputs": [
    {
     "name": "stdout",
     "output_type": "stream",
     "text": [
      "(0, 'ejemplo_chico_sin_solución,2,5,V2,--,PP,--,H2,H3,--,--,PP,R11\\n')\n",
      "(1, 'ejemplo_solucionado,2,2,R2,--,PP,PP\\n')\n",
      "(2, 'test_1,2,2,R2,--,PP,PP\\n')\n",
      "(3, 'test_2,2,3,--,--,PP,PP,--,--\\n')\n",
      "(4, 'test_3,6,4,--,R3,PP,--,H2,--,PP,V5,--,PP,--,V2,R7,--,PP,--,PP,--,--,R3,PP,PP,H4,--')\n"
     ]
    }
   ],
   "source": [
    "for linea in enumerate(data):\n",
    "    print(linea)"
   ]
  },
  {
   "cell_type": "code",
   "execution_count": 20,
   "metadata": {},
   "outputs": [
    {
     "name": "stdout",
     "output_type": "stream",
     "text": [
      "Solución\n"
     ]
    }
   ],
   "source": [
    "string = \"Solución\"\n",
    "print(string)"
   ]
  },
  {
   "cell_type": "code",
   "execution_count": 1,
   "metadata": {},
   "outputs": [
    {
     "name": "stdout",
     "output_type": "stream",
     "text": [
      "poop\n",
      "piss\n",
      "puke\n"
     ]
    }
   ],
   "source": [
    "farts = True\n",
    "while farts:\n",
    "    print(\"poop\")\n",
    "    farts = False\n",
    "    print(\"piss\")\n",
    "    if not farts:\n",
    "        print(\"puke\")"
   ]
  },
  {
   "cell_type": "code",
   "execution_count": null,
   "metadata": {},
   "outputs": [],
   "source": [
    "def explosiva_raycaster(self, posicion: list, direccion: list) -> int:\n",
    "        # Funcion manda un rayo que devuelve la cantidad de celdas afectadas antes de chocar\n",
    "        # con un peon.\n",
    "        fila, columna = posicion\n",
    "        vertical, horizontal = direccion\n",
    "        n_filas, n_columnas = self.dimensiones\n",
    "        afectadas = 0  # en el inicio no hay celdas afectadas por el rayo.\n",
    "        pasos = 1  # se empieza en uno para no contar el origen del rayo\n",
    "        abierto = True\n",
    "        fila_bounded = ((fila + (pasos * vertical) >= 0) and\n",
    "                        (fila + (pasos * vertical) < n_filas))\n",
    "        columna_bounded = ((columna + (pasos * horizontal) >= 0) and\n",
    "                           (columna + (pasos * horizontal) < n_columnas))\n",
    "        while abierto and fila_bounded and columna_bounded:\n",
    "            if (self.tablero[fila + (pasos * vertical)][columna + (pasos * horizontal)] != \"PP\"):\n",
    "                afectadas += 1\n",
    "                pasos += 1\n",
    "                fila_bounded = ((fila + (pasos * vertical) >= 0) and\n",
    "                                (fila + (pasos * vertical) < n_filas))\n",
    "                columna_bounded = ((columna + (pasos * horizontal) >= 0) and\n",
    "                                   (columna + (pasos * horizontal) < n_columnas))\n",
    "            else:\n",
    "                abierto = False\n",
    "        return afectadas"
   ]
  },
  {
   "cell_type": "code",
   "execution_count": null,
   "metadata": {},
   "outputs": [],
   "source": [
    "def explosiva_raycaster(self, posicion: list, direccion: list) -> int:\n",
    "    # Funcion manda un rayo que devuelve la cantidad de celdas afectadas antes de chocar\n",
    "    # con un peon.\n",
    "    posicion = list(map(sum, zip(posicion, direccion)))\n",
    "    n_rows, n_cols = self.dimensiones\n",
    "    afectadas = 0\n",
    "    while abierto and (0 <= posicion[0] < n_rows) and (0 <= posicion[1] < n_cols):\n",
    "        objeto = self.tablero[posicion[0]][posicion[1]]\n",
    "        if (objeto != \"PP\"):\n",
    "            afectadas += 1\n",
    "            posicion = list(map(sum, zip(posicion, direccion)))\n",
    "        else:\n",
    "            abierto = False\n",
    "    return afectadas"
   ]
  }
 ],
 "metadata": {
  "kernelspec": {
   "display_name": "Python 3",
   "language": "python",
   "name": "python3"
  },
  "language_info": {
   "codemirror_mode": {
    "name": "ipython",
    "version": 3
   },
   "file_extension": ".py",
   "mimetype": "text/x-python",
   "name": "python",
   "nbconvert_exporter": "python",
   "pygments_lexer": "ipython3",
   "version": "3.10.11"
  },
  "orig_nbformat": 4
 },
 "nbformat": 4,
 "nbformat_minor": 2
}
