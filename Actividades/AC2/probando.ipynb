{
 "cells": [
  {
   "cell_type": "code",
   "execution_count": 11,
   "metadata": {},
   "outputs": [
    {
     "name": "stdout",
     "output_type": "stream",
     "text": [
      "C:\\repos\\VAMarques-iic2233-2023-2\\Actividades\\AC2\n"
     ]
    }
   ],
   "source": [
    "%cd C:\\repos\\VAMarques-iic2233-2023-2\\Actividades\\AC2"
   ]
  },
  {
   "cell_type": "code",
   "execution_count": 64,
   "metadata": {},
   "outputs": [],
   "source": [
    "from copy import copy\n",
    "from collections import defaultdict\n",
    "from functools import reduce\n",
    "from itertools import product\n",
    "from typing import Generator\n",
    "\n",
    "from parametros import RUTA_PELICULAS, RUTA_GENEROS\n",
    "from utilidades import (\n",
    "    Pelicula, Genero, obtener_unicos, imprimir_peliculas,\n",
    "    imprimir_generos, imprimir_peliculas_genero\n",
    ")\n",
    "\n",
    "\n",
    "# ----------------------------------------------------------------------------\n",
    "# Parte 1: Cargar dataset\n",
    "# ----------------------------------------------------------------------------\n",
    "\n",
    "def cargar_peliculas(ruta: str) -> Generator:\n",
    "    with open(ruta, \"r\") as archivo:\n",
    "        data = archivo.readlines()\n",
    "    for linea in data[1:]:\n",
    "        id_pelicula, titulo, director, anno, rating = linea.strip(\"\\n\").split(\",\")\n",
    "        id_pelicula = int(id_pelicula)\n",
    "        anno = int(anno)\n",
    "        rating = float(rating)\n",
    "        linea = Pelicula(id_pelicula, titulo, director, anno, rating)\n",
    "        yield linea\n",
    "    \n",
    "\n",
    "\n",
    "def cargar_generos(ruta: str) -> Generator:\n",
    "    with open(ruta, \"r\") as archivo:\n",
    "        data = archivo.readlines()\n",
    "    for linea in data[1:]:\n",
    "        genero, id_pelicula = linea.strip(\"\\n\").split(\",\")\n",
    "        id_pelicula = int(id_pelicula)\n",
    "        linea = Genero(genero, id_pelicula)\n",
    "        yield linea\n",
    "\n",
    "\n",
    "# ----------------------------------------------------------------------------\n",
    "# Parte 2: Consultas sobre generadores\n",
    "# ----------------------------------------------------------------------------\n",
    "\n",
    "def obtener_directores(generador_peliculas: Generator) -> set:\n",
    "    directores = obtener_unicos(map(lambda x: x.director, generador_peliculas))\n",
    "    return directores\n",
    "\n",
    "\n",
    "\n",
    "def obtener_str_titulos(generador_peliculas: Generator) -> str:\n",
    "    peliculas = map(lambda x: x.titulos, generador_peliculas)\n",
    "    reducido = reduce(lambda peli_1, peli_2: peli_1 + \", \" + peli_2, peliculas)\n",
    "    return reducido\n",
    "\n",
    "\n",
    "def filtrar_peliculas(\n",
    "    generador_peliculas: Generator,\n",
    "    director: str | None = None,\n",
    "    rating_min: float | None = None,\n",
    "    rating_max: float | None = None\n",
    ") -> filter:\n",
    "    filtrado = filter(lambda x: x == x, generador_peliculas)\n",
    "    if (director is not None):\n",
    "        filtrado = filter(lambda x: x.director == director, filtrado)\n",
    "    if (rating_min is not None):\n",
    "        filtrado = filter(lambda x: x.rating >= rating_min, filtrado)\n",
    "    if (rating_max is not None):\n",
    "        filtrado = filter(lambda x: x.director <= rating_max, filtrado)\n",
    "    return filtrado"
   ]
  },
  {
   "cell_type": "code",
   "execution_count": 63,
   "metadata": {},
   "outputs": [],
   "source": [
    "path_pelis = os.path.join(\"archivos\", \"peliculas.csv\")\n",
    "path_gens = os.path.join(\"archivos\", \"generos.csv\")"
   ]
  },
  {
   "cell_type": "code",
   "execution_count": 54,
   "metadata": {},
   "outputs": [],
   "source": [
    "lista = cargar_peliculas(path)"
   ]
  },
  {
   "cell_type": "code",
   "execution_count": 39,
   "metadata": {},
   "outputs": [
    {
     "data": {
      "text/plain": [
       "\"The Shawshank Redemption, The Godfather, Pulp Fiction, The Dark Knight, Fight Club, Inception, The Matrix, Goodfellas, Schindler's List, Forrest Gump\""
      ]
     },
     "execution_count": 39,
     "metadata": {},
     "output_type": "execute_result"
    }
   ],
   "source": [
    "obtener_str_titulos(lista)"
   ]
  },
  {
   "cell_type": "code",
   "execution_count": 104,
   "metadata": {},
   "outputs": [
    {
     "data": {
      "text/plain": [
       "Pelicula(id_pelicula='20', titulo='The Social Network', director='David Fincher', estreno='2010', rating='7.7')"
      ]
     },
     "execution_count": 104,
     "metadata": {},
     "output_type": "execute_result"
    }
   ],
   "source": [
    "next(lista)"
   ]
  },
  {
   "cell_type": "code",
   "execution_count": 41,
   "metadata": {},
   "outputs": [
    {
     "data": {
      "text/plain": [
       "<filter at 0x1e466181630>"
      ]
     },
     "execution_count": 41,
     "metadata": {},
     "output_type": "execute_result"
    }
   ],
   "source": [
    "def fibonacci(límite):\n",
    "    a, b = 0, 1\n",
    "    for _ in range(límite):\n",
    "        yield b\n",
    "        a, b = b, a + b\n",
    "filter(lambda x: x % 2 != 0, fibonacci(10))"
   ]
  },
  {
   "cell_type": "code",
   "execution_count": 55,
   "metadata": {},
   "outputs": [],
   "source": [
    "def filtrar_peliculas(\n",
    "    generador_peliculas: Generator,\n",
    "    director: str | None = None,\n",
    "    rating_min: float | None = None,\n",
    "    rating_max: float | None = None\n",
    ") -> filter:\n",
    "    filtrado = filter(lambda x: x == x, generador_peliculas)\n",
    "    if (director is not None):\n",
    "        filtrado = filter(lambda x: x.director == director, filtrado)\n",
    "    if (rating_min is not None):\n",
    "        filtrado = filter(lambda x: x.rating >= rating_min, filtrado)\n",
    "    if (rating_max is not None):\n",
    "        filtrado = filter(lambda x: x.director <= rating_max, filtrado)\n",
    "    return filtrado"
   ]
  },
  {
   "cell_type": "code",
   "execution_count": 59,
   "metadata": {},
   "outputs": [
    {
     "data": {
      "text/plain": [
       "[Pelicula(id_pelicula='1', titulo='The Shawshank Redemption', director='Frank Darabont', estreno='1994', rating='9.3'),\n",
       " Pelicula(id_pelicula='2', titulo='The Godfather', director='Francis Ford Coppola', estreno='1972', rating='9.2'),\n",
       " Pelicula(id_pelicula='3', titulo='Pulp Fiction', director='Quentin Tarantino', estreno='1994', rating='8.9'),\n",
       " Pelicula(id_pelicula='4', titulo='The Dark Knight', director='Christopher Nolan', estreno='2008', rating='9.0'),\n",
       " Pelicula(id_pelicula='5', titulo='Fight Club', director='David Fincher', estreno='1999', rating='8.8'),\n",
       " Pelicula(id_pelicula='6', titulo='Inception', director='Christopher Nolan', estreno='2010', rating='8.8'),\n",
       " Pelicula(id_pelicula='7', titulo='The Matrix', director='Lana Wachowski', estreno='1999', rating='8.7'),\n",
       " Pelicula(id_pelicula='8', titulo='Goodfellas', director='Martin Scorsese', estreno='1990', rating='8.7'),\n",
       " Pelicula(id_pelicula='9', titulo=\"Schindler's List\", director='Steven Spielberg', estreno='1993', rating='8.9'),\n",
       " Pelicula(id_pelicula='10', titulo='Forrest Gump', director='Robert Zemeckis', estreno='1994', rating='8.8')]"
      ]
     },
     "execution_count": 59,
     "metadata": {},
     "output_type": "execute_result"
    }
   ],
   "source": [
    "lista = cargar_peliculas(path)\n",
    "list(filtrar_peliculas(lista))"
   ]
  },
  {
   "cell_type": "code",
   "execution_count": 73,
   "metadata": {},
   "outputs": [],
   "source": [
    "def filtrar_peliculas_por_genero(\n",
    "    generador_peliculas: Generator,\n",
    "    generador_generos: Generator,\n",
    "    genero: str | None = None\n",
    ") -> Generator:\n",
    "    if (genero is not None):\n",
    "        filtrado_generos = filter(lambda x: x.genero == genero, generador_generos)\n",
    "    else:\n",
    "        filtrado_generos = filter(lambda x: x == x, generador_generos)\n",
    "    producto = product(filtrado_generos, generador_peliculas)\n",
    "    filtrado = filter(lambda x: x[0].id_pelicula == x[1].id_pelicula, producto)\n",
    "    return filtrado"
   ]
  },
  {
   "cell_type": "code",
   "execution_count": 76,
   "metadata": {},
   "outputs": [
    {
     "data": {
      "text/plain": [
       "[(Genero(genero='Drama', id_pelicula=1),\n",
       "  Pelicula(id_pelicula=1, titulo='The Shawshank Redemption', director='Frank Darabont', estreno=1994, rating=9.3)),\n",
       " (Genero(genero='Drama', id_pelicula=2),\n",
       "  Pelicula(id_pelicula=2, titulo='The Godfather', director='Francis Ford Coppola', estreno=1972, rating=9.2)),\n",
       " (Genero(genero='Drama', id_pelicula=3),\n",
       "  Pelicula(id_pelicula=3, titulo='Pulp Fiction', director='Quentin Tarantino', estreno=1994, rating=8.9)),\n",
       " (Genero(genero='Drama', id_pelicula=4),\n",
       "  Pelicula(id_pelicula=4, titulo='The Dark Knight', director='Christopher Nolan', estreno=2008, rating=9.0)),\n",
       " (Genero(genero='Drama', id_pelicula=5),\n",
       "  Pelicula(id_pelicula=5, titulo='Fight Club', director='David Fincher', estreno=1999, rating=8.8)),\n",
       " (Genero(genero='Drama', id_pelicula=6),\n",
       "  Pelicula(id_pelicula=6, titulo='Inception', director='Christopher Nolan', estreno=2010, rating=8.8)),\n",
       " (Genero(genero='Drama', id_pelicula=8),\n",
       "  Pelicula(id_pelicula=8, titulo='Goodfellas', director='Martin Scorsese', estreno=1990, rating=8.7)),\n",
       " (Genero(genero='Drama', id_pelicula=9),\n",
       "  Pelicula(id_pelicula=9, titulo=\"Schindler's List\", director='Steven Spielberg', estreno=1993, rating=8.9)),\n",
       " (Genero(genero='Drama', id_pelicula=10),\n",
       "  Pelicula(id_pelicula=10, titulo='Forrest Gump', director='Robert Zemeckis', estreno=1994, rating=8.8))]"
      ]
     },
     "execution_count": 76,
     "metadata": {},
     "output_type": "execute_result"
    }
   ],
   "source": [
    "pelis = cargar_peliculas(path_pelis)\n",
    "gens = cargar_generos(path_gens)\n",
    "\n",
    "list(filtrar_peliculas_por_genero(pelis, gens, \"Drama\"))"
   ]
  },
  {
   "cell_type": "code",
   "execution_count": 121,
   "metadata": {},
   "outputs": [],
   "source": [
    "class DCCMax:\n",
    "    def __init__(self, peliculas: list) -> None:\n",
    "        self.peliculas = peliculas\n",
    "\n",
    "    def __iter__(self):\n",
    "        return IteradorDCCMax(self.peliculas)\n",
    "\n",
    "\n",
    "class IteradorDCCMax:\n",
    "    def __init__(self, iterable_peliculas: list) -> None:\n",
    "        self.peliculas = copy(iterable_peliculas)\n",
    "        self.peliculas.sort(reverse=True, key=lambda x: x.rating)\n",
    "        self.peliculas.sort(reverse=False, key=lambda x: x.estreno)\n",
    "\n",
    "    def __iter__(self):\n",
    "        return self\n",
    "\n",
    "    def __next__(self) -> tuple:\n",
    "        # TODO: Completar\n",
    "\n",
    "        # Se levanta la excepción correspondiente\n",
    "        if not self.peliculas:\n",
    "            raise StopIteration()\n",
    "        else:\n",
    "            valor = self.peliculas.pop(0)\n",
    "            return valor"
   ]
  },
  {
   "cell_type": "code",
   "execution_count": 122,
   "metadata": {},
   "outputs": [],
   "source": [
    "lista = [\n",
    "    Pelicula(10, 'Forrest Gump', 'Robert Zemeckis', 1994, 8.8),\n",
    "    Pelicula(1, 'The Shawshank Redemption', 'Frank Darabont', 1994, 9.3),\n",
    "    Pelicula(3, 'Pulp Fiction', 'Quentin Tarantino', 1994, 8.9),\n",
    "    Pelicula(14, 'The Lion King', 'Roger Allers', 1994, 8.5),\n",
    "]"
   ]
  },
  {
   "cell_type": "code",
   "execution_count": 123,
   "metadata": {},
   "outputs": [],
   "source": [
    "cine = DCCMax(lista)"
   ]
  },
  {
   "cell_type": "code",
   "execution_count": 124,
   "metadata": {},
   "outputs": [],
   "source": [
    "rotacion = iter(cine)"
   ]
  },
  {
   "cell_type": "code",
   "execution_count": 98,
   "metadata": {},
   "outputs": [
    {
     "name": "stdout",
     "output_type": "stream",
     "text": [
      "Pelicula(id_pelicula=10, titulo='Forrest Gump', director='Robert Zemeckis', estreno=1994, rating=8.8)\n",
      "Pelicula(id_pelicula=1, titulo='The Shawshank Redemption', director='Frank Darabont', estreno=1994, rating=9.3)\n",
      "Pelicula(id_pelicula=3, titulo='Pulp Fiction', director='Quentin Tarantino', estreno=1994, rating=8.9)\n",
      "Pelicula(id_pelicula=14, titulo='The Lion King', director='Roger Allers', estreno=1994, rating=8.5)\n"
     ]
    }
   ],
   "source": [
    "for i in cine:\n",
    "    print(i) # sin orden"
   ]
  },
  {
   "cell_type": "code",
   "execution_count": 120,
   "metadata": {},
   "outputs": [
    {
     "name": "stdout",
     "output_type": "stream",
     "text": [
      "Pelicula(id_pelicula=1, titulo='The Shawshank Redemption', director='Frank Darabont', estreno=1994, rating=9.3)\n",
      "Pelicula(id_pelicula=3, titulo='Pulp Fiction', director='Quentin Tarantino', estreno=1994, rating=8.9)\n",
      "Pelicula(id_pelicula=10, titulo='Forrest Gump', director='Robert Zemeckis', estreno=1994, rating=8.8)\n",
      "Pelicula(id_pelicula=14, titulo='The Lion King', director='Roger Allers', estreno=1994, rating=8.5)\n"
     ]
    }
   ],
   "source": [
    "for i in cine:\n",
    "    print(i) # con orden en rating"
   ]
  },
  {
   "cell_type": "code",
   "execution_count": 125,
   "metadata": {},
   "outputs": [
    {
     "name": "stdout",
     "output_type": "stream",
     "text": [
      "Pelicula(id_pelicula=1, titulo='The Shawshank Redemption', director='Frank Darabont', estreno=1994, rating=9.3)\n",
      "Pelicula(id_pelicula=3, titulo='Pulp Fiction', director='Quentin Tarantino', estreno=1994, rating=8.9)\n",
      "Pelicula(id_pelicula=10, titulo='Forrest Gump', director='Robert Zemeckis', estreno=1994, rating=8.8)\n",
      "Pelicula(id_pelicula=14, titulo='The Lion King', director='Roger Allers', estreno=1994, rating=8.5)\n"
     ]
    }
   ],
   "source": [
    "for i in cine:\n",
    "    print(i) # orden rating + estreno"
   ]
  },
  {
   "cell_type": "code",
   "execution_count": null,
   "metadata": {},
   "outputs": [],
   "source": []
  }
 ],
 "metadata": {
  "kernelspec": {
   "display_name": "Python 3",
   "language": "python",
   "name": "python3"
  },
  "language_info": {
   "codemirror_mode": {
    "name": "ipython",
    "version": 3
   },
   "file_extension": ".py",
   "mimetype": "text/x-python",
   "name": "python",
   "nbconvert_exporter": "python",
   "pygments_lexer": "ipython3",
   "version": "3.10.11"
  },
  "orig_nbformat": 4
 },
 "nbformat": 4,
 "nbformat_minor": 2
}
