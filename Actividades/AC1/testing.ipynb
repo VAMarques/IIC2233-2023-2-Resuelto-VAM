{
 "cells": [
  {
   "cell_type": "code",
   "execution_count": 55,
   "metadata": {},
   "outputs": [],
   "source": [
    "from abc import ABC, abstractmethod\n",
    "import random\n",
    "\n",
    "class Vehiculo(ABC):\n",
    "\n",
    "    identificador = 0\n",
    "\n",
    "    def __init__(self, rendimiento, marca, energia = 120, *args, **kwargs) -> None:\n",
    "        super().__init__(*args, **kwargs)\n",
    "        self.rendimiento = int(rendimiento)\n",
    "        self.marca = str(marca)\n",
    "        self._energia = int(energia)\n",
    "        self.identificador = Vehiculo.identificador\n",
    "        Vehiculo.identificador += 1\n",
    "        \n",
    "    @abstractmethod\n",
    "    def recorrer(self, kilometros) -> None:\n",
    "        pass\n",
    "    \n",
    "    @property\n",
    "    def autonomia(self) -> float:\n",
    "        return self._energia * self.rendimiento\n",
    "\n",
    "    @property\n",
    "    def energia(self) -> int:\n",
    "        return self._energia\n",
    "    \n",
    "    @energia.setter\n",
    "    def energia(self, nueva_energia) -> None:\n",
    "        if (nueva_energia >= 0):\n",
    "            self._energia = nueva_energia\n",
    "        else:\n",
    "            self._energia = 0\n",
    "        \n",
    "\n",
    "class AutoBencina(Vehiculo):\n",
    "    \n",
    "    def __init__(self, bencina_favorita, *args, **kwargs) -> None:\n",
    "        self.bencina_favorita = bencina_favorita\n",
    "        super().__init__(*args, **kwargs)\n",
    "    \n",
    "    # Problema entre floats y ints\n",
    "    # si algo no funciona remover la division entera presente aca.\n",
    "    def recorrer(self, kilometros) -> str:\n",
    "        if (self.autonomia > kilometros):\n",
    "            gasto = kilometros // self.rendimiento\n",
    "            self.energia -= gasto\n",
    "            return f\"Anduve por {kilometros}Km y gasté {gasto}L de bencina\"\n",
    "        else:\n",
    "            kilometros_maximos = self.autonomia\n",
    "            gasto = self.energia\n",
    "            self.energia = 0\n",
    "            return f\"Anduve por {kilometros_maximos}Km y gasté {gasto}L de bencina\"\n",
    "\n",
    "\n",
    "class AutoElectrico(Vehiculo):\n",
    "\n",
    "    def __init__(self, vida_util_bateria, *args, **kwargs) -> None:\n",
    "        self.vida_util_bateria = vida_util_bateria\n",
    "        super().__init__(*args, **kwargs)\n",
    "\n",
    "    def recorrer(self, kilometros) -> str:\n",
    "        if (self.autonomia > kilometros):\n",
    "            gasto = kilometros // self.rendimiento\n",
    "            self.energia -= gasto\n",
    "            return f\"Anduve por {kilometros}Km y gasté {gasto}W de energía eléctrica\"\n",
    "        else:\n",
    "            kilometros_maximos = self.autonomia\n",
    "            gasto = self.energia\n",
    "            self.energia = 0\n",
    "            return f\"Anduve por {kilometros_maximos}Km y gasté {gasto}W de energía eléctrica\"\n",
    "\n",
    "\n",
    "class Camioneta(AutoBencina):\n",
    "\n",
    "    def __init__(self, capacidad_maleta, *args, **kwargs) -> None:\n",
    "        self.capacidad_maleta = capacidad_maleta\n",
    "        super().__init__(*args, **kwargs)\n",
    "    \n",
    "\n",
    "\n",
    "class Telsa(AutoElectrico):\n",
    "\n",
    "    def __init__(self, *args, **kwargs) -> None:\n",
    "        super().__init__(*args, **kwargs)\n",
    "\n",
    "    def recorrer(self, kilometros) -> str:\n",
    "        return AutoElectrico.recorrer(kilometros)+\"de forma inteligente\"\n",
    "\n",
    "\n",
    "class FaitHibrido(AutoBencina, AutoElectrico):\n",
    "\n",
    "    def __init__(self, *args, **kwargs) -> None:\n",
    "        super().__init__(vida_util_bateria = 5, *args, **kwargs)\n",
    "    \n",
    "    def recorrer(self, distancia) -> str:\n",
    "        if (self.autonomia > distancia):\n",
    "            recorrido_bencina = AutoBencina.recorrer(self, kilometros=distancia/2)\n",
    "            recorrido_electrico = AutoElectrico.recorrer(self, kilometros=distancia/2)\n",
    "            return recorrido_bencina + recorrido_electrico\n",
    "        else:\n",
    "            distancia = self.autonomia\n",
    "            recorrido_bencina = AutoBencina.recorrer(self, kilometros=distancia/2)\n",
    "            recorrido_electrico = AutoElectrico.recorrer(self, kilometros=distancia/2)\n",
    "            return recorrido_bencina +\" \"+ recorrido_electrico\n"
   ]
  },
  {
   "cell_type": "code",
   "execution_count": 56,
   "metadata": {},
   "outputs": [],
   "source": [
    "miauto = FaitHibrido(bencina_favorita = 102, rendimiento=10, energia=100, marca='Fait')"
   ]
  },
  {
   "cell_type": "code",
   "execution_count": 57,
   "metadata": {},
   "outputs": [
    {
     "name": "stdout",
     "output_type": "stream",
     "text": [
      "5\n",
      "102\n",
      "10\n",
      "100\n"
     ]
    }
   ],
   "source": [
    "print(miauto.vida_util_bateria)\n",
    "print(miauto.bencina_favorita)\n",
    "print(miauto.rendimiento)\n",
    "print(miauto.energia)"
   ]
  },
  {
   "cell_type": "code",
   "execution_count": 58,
   "metadata": {},
   "outputs": [
    {
     "name": "stdout",
     "output_type": "stream",
     "text": [
      "('Anduve por 50.0Km y gasté 5.0L de bencina', 'Anduve por 50.0Km y gasté 5.0W de energía eléctrica')\n",
      "90.0\n"
     ]
    }
   ],
   "source": [
    "print(miauto.recorrer(100))\n",
    "print(miauto.energia)"
   ]
  },
  {
   "cell_type": "code",
   "execution_count": 54,
   "metadata": {},
   "outputs": [
    {
     "data": {
      "text/plain": [
       "0"
      ]
     },
     "execution_count": 54,
     "metadata": {},
     "output_type": "execute_result"
    }
   ],
   "source": [
    "miauto.energia"
   ]
  },
  {
   "cell_type": "code",
   "execution_count": 36,
   "metadata": {},
   "outputs": [
    {
     "data": {
      "text/plain": [
       "(__main__.FaitHibrido,\n",
       " __main__.AutoBencina,\n",
       " __main__.AutoElectrico,\n",
       " __main__.Vehiculo,\n",
       " abc.ABC,\n",
       " object)"
      ]
     },
     "execution_count": 36,
     "metadata": {},
     "output_type": "execute_result"
    }
   ],
   "source": [
    "FaitHibrido.__mro__"
   ]
  },
  {
   "cell_type": "code",
   "execution_count": null,
   "metadata": {},
   "outputs": [],
   "source": []
  }
 ],
 "metadata": {
  "kernelspec": {
   "display_name": "Python 3",
   "language": "python",
   "name": "python3"
  },
  "language_info": {
   "codemirror_mode": {
    "name": "ipython",
    "version": 3
   },
   "file_extension": ".py",
   "mimetype": "text/x-python",
   "name": "python",
   "nbconvert_exporter": "python",
   "pygments_lexer": "ipython3",
   "version": "3.10.11"
  },
  "orig_nbformat": 4
 },
 "nbformat": 4,
 "nbformat_minor": 2
}
