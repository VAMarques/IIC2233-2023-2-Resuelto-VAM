{
 "cells": [
  {
   "cell_type": "code",
   "execution_count": 1,
   "metadata": {},
   "outputs": [],
   "source": [
    "import re"
   ]
  },
  {
   "cell_type": "code",
   "execution_count": 49,
   "metadata": {},
   "outputs": [],
   "source": [
    "lista_tests = [\n",
    "\"1 de Enero de 2021\",\n",
    "\"31 de DICIEMBRE de 22\",\n",
    "\"15 de jul de 1998\",\n",
    "\"02 de Feb de 23\",\n",
    "\"10 de noviembre de 2020\",\n",
    "\"99 de MesFalso de 2085\",\n",
    "\"00 de otroMES de 99\",\n",
    "\"0 de mayonesa de 2022\"\n",
    "]"
   ]
  },
  {
   "cell_type": "code",
   "execution_count": 85,
   "metadata": {},
   "outputs": [],
   "source": [
    "lista_antitest = [\n",
    "\"32 de enero de 2122\",\n",
    "\"12 de junio de 1802\",\n",
    "\"000 de diciembre de 2021\",\n",
    "\"31 de octubre de 10000\",\n",
    "\"29 de febrero de 021\",\n",
    "\"5 de agosto, 2022\",\n",
    "\"15, noviembre, 21\",\n",
    "\"21 oct de 1956\",\n",
    "\"12 marzo 22\",\n",
    "\"7/julio/22\",\n",
    "\"20-abril-3000\",\n",
    "\"11 de 12 de 00\",\n",
    "\"20 de de 2000\",\n",
    "\"1 de de 2000\"\n",
    "]"
   ]
  },
  {
   "cell_type": "code",
   "execution_count": 47,
   "metadata": {},
   "outputs": [],
   "source": [
    "matching = re.search(\"[0-9]{1,2}\", test_1)"
   ]
  },
  {
   "cell_type": "code",
   "execution_count": 109,
   "metadata": {},
   "outputs": [
    {
     "name": "stdout",
     "output_type": "stream",
     "text": [
      "<re.Match object; span=(0, 18), match='1 de Enero de 2021'>\n",
      "<re.Match object; span=(0, 21), match='31 de DICIEMBRE de 22'>\n",
      "<re.Match object; span=(0, 17), match='15 de jul de 1998'>\n",
      "<re.Match object; span=(0, 15), match='02 de Feb de 23'>\n",
      "<re.Match object; span=(0, 23), match='10 de noviembre de 2020'>\n",
      "<re.Match object; span=(0, 22), match='99 de MesFalso de 2085'>\n",
      "<re.Match object; span=(0, 19), match='00 de otroMES de 99'>\n",
      "<re.Match object; span=(0, 21), match='0 de mayonesa de 2022'>\n"
     ]
    }
   ],
   "source": [
    "for test in lista_tests:\n",
    "    print(re.match(mi_reg, test))"
   ]
  },
  {
   "cell_type": "code",
   "execution_count": 108,
   "metadata": {},
   "outputs": [
    {
     "name": "stdout",
     "output_type": "stream",
     "text": [
      "None\n",
      "None\n",
      "None\n",
      "None\n",
      "None\n",
      "None\n",
      "None\n",
      "None\n",
      "None\n",
      "None\n",
      "None\n",
      "None\n",
      "None\n",
      "None\n"
     ]
    }
   ],
   "source": [
    "for test in lista_antitest:\n",
    "    print(re.match(mi_reg, test))"
   ]
  },
  {
   "cell_type": "code",
   "execution_count": 44,
   "metadata": {},
   "outputs": [
    {
     "data": {
      "text/plain": [
       "<re.Match object; span=(0, 2), match='12'>"
      ]
     },
     "execution_count": 44,
     "metadata": {},
     "output_type": "execute_result"
    }
   ],
   "source": [
    "re.search(\"[0-9]{1,2}\", \"12\")"
   ]
  },
  {
   "cell_type": "code",
   "execution_count": 64,
   "metadata": {},
   "outputs": [
    {
     "name": "stdout",
     "output_type": "stream",
     "text": [
      "<re.Match object; span=(0, 12), match='32 de enéro '>\n"
     ]
    }
   ],
   "source": [
    "print(re.search(\"[0-9]{1,2} de [a-zA-Záéíóú]+ \", \"32 de enéro de 2122\"))"
   ]
  },
  {
   "cell_type": "code",
   "execution_count": 105,
   "metadata": {},
   "outputs": [
    {
     "name": "stdout",
     "output_type": "stream",
     "text": [
      "<re.Match object; span=(0, 18), match='07\\tde AgosTo de 95'>\n",
      "<re.Match object; span=(0, 19), match='18 de abril de\\n2018'>\n",
      "<re.Match object; span=(0, 19), match='30 de JUNIO\\tde 2023'>\n",
      "<re.Match object; span=(0, 15), match='8 de ctbr de 01'>\n",
      "<re.Match object; span=(0, 19), match='14 de carzo de 2010'>\n",
      "<re.Match object; span=(0, 21), match='11 de\\tnoviembre de 22'>\n",
      "<re.Match object; span=(0, 19), match='46 de ABRIL de 1999'>\n"
     ]
    }
   ],
   "source": [
    "casos_validos = [\n",
    "    \"07\\tde AgosTo de 95\",\n",
    "    \"18 de abril de\\n2018\",\n",
    "    \"30 de JUNIO\\tde 2023\",\n",
    "    \"8 de ctbr de 01\",\n",
    "    \"14 de carzo de 2010\",\n",
    "    \"11 de\\tnoviembre de 22\",\n",
    "    \"46 de ABRIL de 1999\",\n",
    "]\n",
    "\n",
    "for i, texto in enumerate(casos_validos):\n",
    "        respuesta = re.match(\"^[0-9]{1,2}\\sde\\s[a-zA-Z]+[\\n\\s\\t]de[\\n\\s\\t]((19|20)[0-9]{1,2}|[0-9]{1,2})$\", texto)\n",
    "        print(respuesta)"
   ]
  },
  {
   "cell_type": "code",
   "execution_count": 106,
   "metadata": {},
   "outputs": [],
   "source": [
    "dupla = \"\\d{1,2}\"\n",
    "space = \"\\s\"\n",
    "alpha = \"[a-zA-Z]\"\n",
    "fecha_digitos = \"(19|20)[0-9]{1,2}\"\n",
    "fecha_siglos = \"[0-9]{1,2}\"\n",
    "mi_reg = f\"^{dupla}{space}de{space}{alpha}+{space}de{space}({fecha_digitos}|{fecha_siglos})$\""
   ]
  },
  {
   "cell_type": "markdown",
   "metadata": {},
   "source": [
    "# REGEX 2"
   ]
  },
  {
   "cell_type": "code",
   "execution_count": 240,
   "metadata": {},
   "outputs": [],
   "source": [
    "lista_tests = [\n",
    "    \"Las Arianas pueden lograr un 7 en el ramo.\",\n",
    "    \"Los taurinos pueden esperar 4 puntos en la actividad.\",\n",
    "    \"Las GEMINIANAS pueden experimentar altibajos en los tests.\",\n",
    "    \"Los leoninos pueden encontrar un bug en el código.\",\n",
    "    \"Los SignoFalsianos pueden pasar el ramo con 8.\"\n",
    "]"
   ]
  },
  {
   "cell_type": "code",
   "execution_count": 251,
   "metadata": {},
   "outputs": [],
   "source": [
    "lista_antitest = [\n",
    "    \"Los libra pueden recordar hacer git pull.\",\n",
    "    \"les escorpianos pueden recordar hacer git add.\",\n",
    "    \"Los sagitarianos recordarán hacer git commit.\",\n",
    "    \"Las piscianas pueden pueden recordar hacer git push\"\n",
    "]"
   ]
  },
  {
   "cell_type": "code",
   "execution_count": 247,
   "metadata": {},
   "outputs": [
    {
     "name": "stdout",
     "output_type": "stream",
     "text": [
      "Las Arianas pueden lograr un 7 en el ramo.\n",
      "Arianas\n",
      "###\n",
      "Los taurinos pueden esperar 4 puntos en la actividad.\n",
      "taurinos\n",
      "###\n",
      "Las GEMINIANAS pueden experimentar altibajos en los tests.\n",
      "GEMINIANAS\n",
      "###\n",
      "Los leoninos pueden encontrar un bug en el código.\n",
      "leoninos\n",
      "###\n",
      "Los SignoFalsianos pueden pasar el ramo con 8.\n",
      "SignoFalsianos\n",
      "###\n"
     ]
    }
   ],
   "source": [
    "for test in lista_tests:\n",
    "    print(test)\n",
    "    respuesta = re.search(\"^(?:Las|Los)\\s(.+([aAoO][sS]))\\spueden\\s.+\\.\", test)\n",
    "    print(respuesta.group(1))\n",
    "    print(\"###\")"
   ]
  },
  {
   "cell_type": "code",
   "execution_count": 255,
   "metadata": {},
   "outputs": [
    {
     "name": "stdout",
     "output_type": "stream",
     "text": [
      "None\n",
      "###\n",
      "None\n",
      "###\n",
      "None\n",
      "###\n",
      "None\n",
      "###\n"
     ]
    }
   ],
   "source": [
    "for test in lista_antitest:\n",
    "    respuesta = re.search(\"^(?:Las|Los)\\s(.+([aAoO][sS]))\\spueden\\s.+\\.\", test)\n",
    "    print(respuesta)\n",
    "    print(\"###\")"
   ]
  },
  {
   "cell_type": "code",
   "execution_count": null,
   "metadata": {},
   "outputs": [],
   "source": []
  }
 ],
 "metadata": {
  "kernelspec": {
   "display_name": "Python 3",
   "language": "python",
   "name": "python3"
  },
  "language_info": {
   "codemirror_mode": {
    "name": "ipython",
    "version": 3
   },
   "file_extension": ".py",
   "mimetype": "text/x-python",
   "name": "python",
   "nbconvert_exporter": "python",
   "pygments_lexer": "ipython3",
   "version": "3.10.11"
  },
  "orig_nbformat": 4
 },
 "nbformat": 4,
 "nbformat_minor": 2
}
